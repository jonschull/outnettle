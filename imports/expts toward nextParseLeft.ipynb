{
 "cells": [
  {
   "cell_type": "code",
   "execution_count": 1,
   "metadata": {},
   "outputs": [],
   "source": [
    "#https://github.com/clarketm/mergedeep/tree/master/mergedeep\n",
    "from collections import Counter\n",
    "from collections.abc import Mapping\n",
    "from copy import deepcopy\n",
    "from enum import Enum\n",
    "from functools import reduce, partial\n",
    "from typing import MutableMapping\n",
    "\n",
    "\n",
    "\n",
    "\n",
    "class Strategy(Enum):\n",
    "    # Replace `destination` item with one from `source` (default).\n",
    "    REPLACE = 0\n",
    "    # Combine `list`, `tuple`, `set`, or `Counter` types into one collection.\n",
    "    ADDITIVE = 1\n",
    "    # Alias to: `TYPESAFE_REPLACE`\n",
    "    TYPESAFE = 2\n",
    "    # Raise `TypeError` when `destination` and `source` types differ. Otherwise, perform a `REPLACE` merge.\n",
    "    TYPESAFE_REPLACE = 3\n",
    "    # Raise `TypeError` when `destination` and `source` types differ. Otherwise, perform a `ADDITIVE` merge.\n",
    "    TYPESAFE_ADDITIVE = 4\n",
    "\n",
    "\n",
    "def _handle_merge_replace(destination, source, key):\n",
    "    if isinstance(destination[key], Counter) and isinstance(source[key], Counter):\n",
    "        # Merge both destination and source `Counter` as if they were a standard dict.\n",
    "        _deepmerge(destination[key], source[key])\n",
    "    else:\n",
    "        # If a key exists in both objects and the values are `different`, the value from the `source` object will be used.\n",
    "        destination[key] = deepcopy(source[key])\n",
    "\n",
    "\n",
    "def _handle_merge_additive(destination, source, key):\n",
    "    # Values are combined into one long collection.\n",
    "    if isinstance(destination[key], list) and isinstance(source[key], list):\n",
    "        # Extend destination if both destination and source are `list` type.\n",
    "        destination[key].extend(deepcopy(source[key]))\n",
    "    elif isinstance(destination[key], set) and isinstance(source[key], set):\n",
    "        # Update destination if both destination and source are `set` type.\n",
    "        destination[key].update(deepcopy(source[key]))\n",
    "    elif isinstance(destination[key], tuple) and isinstance(source[key], tuple):\n",
    "        # Update destination if both destination and source are `tuple` type.\n",
    "        destination[key] = destination[key] + deepcopy(source[key])\n",
    "    elif isinstance(destination[key], Counter) and isinstance(source[key], Counter):\n",
    "        # Update destination if both destination and source are `Counter` type.\n",
    "        destination[key].update(deepcopy(source[key]))\n",
    "    else:\n",
    "        _handle_merge[Strategy.REPLACE](destination, source, key)\n",
    "\n",
    "\n",
    "def _handle_merge_typesafe(destination, source, key, strategy):\n",
    "    # Raise a TypeError if the destination and source types differ.\n",
    "    if type(destination[key]) is not type(source[key]):\n",
    "        raise TypeError(\n",
    "            f'destination type: {type(destination[key])} differs from source type: {type(source[key])} for key: \"{key}\"'\n",
    "        )\n",
    "    else:\n",
    "        _handle_merge[strategy](destination, source, key)\n",
    "\n",
    "\n",
    "_handle_merge = {\n",
    "    Strategy.REPLACE: _handle_merge_replace,\n",
    "    Strategy.ADDITIVE: _handle_merge_additive,\n",
    "    Strategy.TYPESAFE: partial(_handle_merge_typesafe, strategy=Strategy.REPLACE),\n",
    "    Strategy.TYPESAFE_REPLACE: partial(_handle_merge_typesafe, strategy=Strategy.REPLACE),\n",
    "    Strategy.TYPESAFE_ADDITIVE: partial(_handle_merge_typesafe, strategy=Strategy.ADDITIVE),\n",
    "}\n",
    "\n",
    "\n",
    "def _is_recursive_merge(a, b):\n",
    "    both_mapping = isinstance(a, Mapping) and isinstance(b, Mapping)\n",
    "    both_counter = isinstance(a, Counter) and isinstance(b, Counter)\n",
    "    return both_mapping and not both_counter\n",
    "\n",
    "\n",
    "def _deepmerge(dst, src, strategy=Strategy.REPLACE):\n",
    "    for key in src:\n",
    "        if key in dst:\n",
    "            if _is_recursive_merge(dst[key], src[key]):\n",
    "                # If the key for both `dst` and `src` are both Mapping types (e.g. dict), then recurse.\n",
    "                _deepmerge(dst[key], src[key], strategy)\n",
    "            elif dst[key] is src[key]:\n",
    "                # If a key exists in both objects and the values are `same`, the value from the `dst` object will be used.\n",
    "                pass\n",
    "            else:\n",
    "                _handle_merge.get(strategy)(dst, src, key)\n",
    "        else:\n",
    "            # If the key exists only in `src`, the value from the `src` object will be used.\n",
    "            dst[key] = deepcopy(src[key])\n",
    "    return dst\n",
    "\n",
    "\n",
    "def merge(destination: MutableMapping, *sources: Mapping, strategy: Strategy = Strategy.REPLACE) -> MutableMapping:\n",
    "    \"\"\"\n",
    "    A deep merge function for 🐍.\n",
    "\n",
    "    :param destination: The destination mapping.\n",
    "    :param sources: The source mappings.\n",
    "    :param strategy: The merge strategy.\n",
    "    :return:\n",
    "    \"\"\"\n",
    "    return reduce(partial(_deepmerge, strategy=strategy), sources, destination)\n",
    "\n",
    "def split(data, value=2):\n",
    "    \"\"\"recursively turn a set of words into a nested dict\n",
    "    https://stackoverflow.com/questions/52349884/create-a-nested-dictionary-using-recursion-python\n",
    "    \"\"\"\n",
    "    if data:\n",
    "        head, *tail = data  # This is a nicer way of doing head, tail = data[0], data[1:]\n",
    "        return {head: split(tail,value)}\n",
    "    else:\n",
    "        return value  \n",
    "        # this returns the value to the previous split() \n",
    "        #    which sets it in the line above by calling itself and returns the datastructure\n",
    "        #    now that data is None, the complete dataStructure is returned back up through call stack\n",
    "        #    to the original call.  \n",
    "        # It's way over my head!\n",
    "    \n",
    "\n",
    "\n",
    "def fixV(s):\n",
    "    \"\"\"\n",
    "    deal with non-string values\n",
    "    \"\"\"\n",
    "    if s in ['True', 'true']: return True\n",
    "    if s in ['False', 'false']: return False\n",
    "    try: # to convert to a number\n",
    "        return(int(s))\n",
    "    except:\n",
    "        return s #then just return as is\n",
    "\n",
    "def makeOpt(line = 'nodes color background red'):\n",
    "    \"\"\"\n",
    "    prepare string for split\n",
    "    \"\"\"\n",
    "    words = line.split()\n",
    "    value = fixV(words.pop())\n",
    "        \n",
    "    return split(words, value)\n",
    "\n",
    "\n",
    "d1 = makeOpt('nodes color background red')\n",
    "d2 = makeOpt('nodes color border green')\n",
    "d3 = makeOpt('nodes shape box')\n",
    "options = merge(d1,d2,d3)\n",
    "print(options)\n",
    "\n",
    "options = merge(makeOpt('nodes borderWidth 12'), options)\n",
    "print(options)\n",
    "\n"
   ]
  },
  {
   "cell_type": "code",
   "execution_count": 60,
   "metadata": {},
   "outputs": [
    {
     "data": {
      "text/plain": [
       "'node'"
      ]
     },
     "execution_count": 60,
     "metadata": {},
     "output_type": "execute_result"
    }
   ],
   "source": [
    "line='node color background red'\n",
    "d=dict()\n",
    "words=line.split()\n",
    "value=words.pop()\n",
    "firstKey=words.pop(0)\n",
    "while words:\n",
    "    d[firstKey][word]=value"
   ]
  },
  {
   "cell_type": "code",
   "execution_count": 71,
   "metadata": {},
   "outputs": [
    {
     "name": "stdout",
     "output_type": "stream",
     "text": [
      "fixed\n"
     ]
    },
    {
     "data": {
      "text/plain": [
       "{'node': {'color': {'background': 'blue'}}}"
      ]
     },
     "execution_count": 71,
     "metadata": {},
     "output_type": "execute_result"
    }
   ],
   "source": [
    "nd = nested_dict()\n",
    "nd['node']['color']='red'\n",
    "try:\n",
    "    nd['node']['color']['background'] = 'blue'\n",
    "except TypeError:\n",
    "    print('fixed')\n",
    "    nd['node']['color']=dict()\n",
    "    nd['node']['color']['background']='blue'\n",
    "nd.to_dict()"
   ]
  },
  {
   "cell_type": "code",
   "execution_count": 161,
   "metadata": {
    "collapsed": true,
    "jupyter": {
     "outputs_hidden": true
    }
   },
   "outputs": [
    {
     "name": "stdout",
     "output_type": "stream",
     "text": [
      "1\n",
      "4\n"
     ]
    },
    {
     "ename": "TypeError",
     "evalue": "string indices must be integers",
     "output_type": "error",
     "traceback": [
      "\u001b[0;31m---------------------------------------------------------------------------\u001b[0m",
      "\u001b[0;31mTypeError\u001b[0m                                 Traceback (most recent call last)",
      "\u001b[0;32m<ipython-input-161-3c0adaf29144>\u001b[0m in \u001b[0;36m<module>\u001b[0;34m\u001b[0m\n\u001b[1;32m     27\u001b[0m \u001b[0md\u001b[0m \u001b[0;34m=\u001b[0m \u001b[0msetValue\u001b[0m\u001b[0;34m(\u001b[0m\u001b[0md\u001b[0m\u001b[0;34m,\u001b[0m\u001b[0;34m'color red'\u001b[0m\u001b[0;34m)\u001b[0m\u001b[0;34m\u001b[0m\u001b[0;34m\u001b[0m\u001b[0m\n\u001b[1;32m     28\u001b[0m \u001b[0md\u001b[0m\u001b[0;34m\u001b[0m\u001b[0;34m\u001b[0m\u001b[0m\n\u001b[0;32m---> 29\u001b[0;31m \u001b[0md\u001b[0m \u001b[0;34m=\u001b[0m \u001b[0msetValue\u001b[0m\u001b[0;34m(\u001b[0m\u001b[0md\u001b[0m\u001b[0;34m,\u001b[0m\u001b[0;34m'color color background blue also'\u001b[0m\u001b[0;34m)\u001b[0m\u001b[0;34m\u001b[0m\u001b[0;34m\u001b[0m\u001b[0m\n\u001b[0m\u001b[1;32m     30\u001b[0m \u001b[0md\u001b[0m\u001b[0;34m\u001b[0m\u001b[0;34m\u001b[0m\u001b[0m\n\u001b[1;32m     31\u001b[0m \u001b[0md\u001b[0m \u001b[0;34m=\u001b[0m \u001b[0msetValue\u001b[0m\u001b[0;34m(\u001b[0m\u001b[0md\u001b[0m\u001b[0;34m,\u001b[0m\u001b[0;34m'nodes color border blue also'\u001b[0m\u001b[0;34m)\u001b[0m\u001b[0;34m\u001b[0m\u001b[0;34m\u001b[0m\u001b[0m\n",
      "\u001b[0;32m<ipython-input-161-3c0adaf29144>\u001b[0m in \u001b[0;36msetValue\u001b[0;34m(d, words)\u001b[0m\n\u001b[1;32m     20\u001b[0m         \u001b[0;31m#nd[words[0]]={}\u001b[0m\u001b[0;34m\u001b[0m\u001b[0;34m\u001b[0m\u001b[0;34m\u001b[0m\u001b[0m\n\u001b[1;32m     21\u001b[0m         \u001b[0;31m#nd[words[0]][words[1]]={}\u001b[0m\u001b[0;34m\u001b[0m\u001b[0;34m\u001b[0m\u001b[0;34m\u001b[0m\u001b[0m\n\u001b[0;32m---> 22\u001b[0;31m         \u001b[0mnd\u001b[0m\u001b[0;34m[\u001b[0m\u001b[0mwords\u001b[0m\u001b[0;34m[\u001b[0m\u001b[0;36m0\u001b[0m\u001b[0;34m]\u001b[0m\u001b[0;34m]\u001b[0m\u001b[0;34m[\u001b[0m\u001b[0mwords\u001b[0m\u001b[0;34m[\u001b[0m\u001b[0;36m1\u001b[0m\u001b[0;34m]\u001b[0m\u001b[0;34m]\u001b[0m\u001b[0;34m[\u001b[0m\u001b[0mwords\u001b[0m\u001b[0;34m[\u001b[0m\u001b[0;36m2\u001b[0m\u001b[0;34m]\u001b[0m\u001b[0;34m]\u001b[0m \u001b[0;34m=\u001b[0m \u001b[0mnested_dict\u001b[0m\u001b[0;34m(\u001b[0m\u001b[0;34m)\u001b[0m\u001b[0;34m\u001b[0m\u001b[0;34m\u001b[0m\u001b[0m\n\u001b[0m\u001b[1;32m     23\u001b[0m         \u001b[0mnd\u001b[0m\u001b[0;34m[\u001b[0m\u001b[0mwords\u001b[0m\u001b[0;34m[\u001b[0m\u001b[0;36m0\u001b[0m\u001b[0;34m]\u001b[0m\u001b[0;34m]\u001b[0m\u001b[0;34m[\u001b[0m\u001b[0mwords\u001b[0m\u001b[0;34m[\u001b[0m\u001b[0;36m1\u001b[0m\u001b[0;34m]\u001b[0m\u001b[0;34m]\u001b[0m\u001b[0;34m[\u001b[0m\u001b[0mwords\u001b[0m\u001b[0;34m[\u001b[0m\u001b[0;36m2\u001b[0m\u001b[0;34m]\u001b[0m\u001b[0;34m]\u001b[0m\u001b[0;34m[\u001b[0m\u001b[0mwords\u001b[0m\u001b[0;34m[\u001b[0m\u001b[0;36m3\u001b[0m\u001b[0;34m]\u001b[0m\u001b[0;34m]\u001b[0m\u001b[0;34m=\u001b[0m\u001b[0mvalue\u001b[0m\u001b[0;34m\u001b[0m\u001b[0;34m\u001b[0m\u001b[0m\n\u001b[1;32m     24\u001b[0m \u001b[0;34m\u001b[0m\u001b[0m\n",
      "\u001b[0;31mTypeError\u001b[0m: string indices must be integers"
     ]
    }
   ],
   "source": [
    "def setValue(d={}, words='node color background red'):\n",
    "    \"\"\"this breask if you have to go up two levels (ok?)\"\"\"\n",
    "    words=words.split(' ')\n",
    "    nd=nested_dict(d)\n",
    "    value = words.pop()\n",
    "    if len(words)==1: #easy\n",
    "        print(1)\n",
    "        nd[words[0]] = value\n",
    "    if len(words)==2: \n",
    "        print(2)\n",
    "        nd[words[0]]=nested_dict() #if words[0] is defined we need to undefine it \n",
    "        nd[words[0]][words[1]] = value\n",
    "    if len(words)==3:\n",
    "        print(3)\n",
    "        #nd[words[0]]={}\n",
    "        nd[words[0]][words[1]]=nested_dict()\n",
    "        nd[words[0]][words[1]][words[2]] = value\n",
    "    if len(words)==4:\n",
    "        print(4)\n",
    "        #nd[words[0]]={}\n",
    "        #nd[words[0]][words[1]]={}\n",
    "        nd[words[0]][words[1]][words[2]] = nested_dict()\n",
    "        nd[words[0]][words[1]][words[2]][words[3]]=value\n",
    "\n",
    "    return nd.to_dict()\n",
    "d={}\n",
    "d = setValue(d,'color red')\n",
    "d\n",
    "d = setValue(d,'color color background blue also')\n",
    "d\n",
    "d = setValue(d,'nodes color border blue also')\n",
    "d"
   ]
  },
  {
   "cell_type": "code",
   "execution_count": 172,
   "metadata": {},
   "outputs": [
    {
     "data": {
      "text/plain": [
       "\u001b[0;31mType:\u001b[0m           nested_dict\n",
       "\u001b[0;31mString form:\u001b[0m    {}\n",
       "\u001b[0;31mLength:\u001b[0m         0\n",
       "\u001b[0;31mDocstring:\u001b[0m     \n",
       "Nested dict.\n",
       "\n",
       "Uses defaultdict to automatically add levels of nested dicts and other types.\n",
       "\u001b[0;31mInit docstring:\u001b[0m\n",
       "Constructor.\n",
       "\n",
       "Takes one or two parameters\n",
       "    1) int, [TYPE]\n",
       "    1) dict\n"
      ]
     },
     "metadata": {},
     "output_type": "display_data"
    }
   ],
   "source": [
    "words='one two three four five'.split()\n",
    "d=nested_dict()\n",
    "d?"
   ]
  },
  {
   "cell_type": "code",
   "execution_count": 26,
   "metadata": {},
   "outputs": [
    {
     "data": {
      "text/plain": [
       "dict_items([(1, {2: {3: 4}}), (4, {5: {6: 7}})])"
      ]
     },
     "execution_count": 26,
     "metadata": {},
     "output_type": "execute_result"
    }
   ],
   "source": [
    "nd.to_dict().items()"
   ]
  },
  {
   "cell_type": "code",
   "execution_count": 269,
   "metadata": {},
   "outputs": [
    {
     "data": {
      "text/plain": [
       "({'nodes': {'color': {'background': {'red': 'red'}}}},\n",
       " {'nodes': {'color': {'border': {'green': 'green'}}}})"
      ]
     },
     "execution_count": 269,
     "metadata": {},
     "output_type": "execute_result"
    }
   ],
   "source": [
    "def split(data, value=2):\n",
    "    \"\"\"recursively turn a set of words into a nested dict\n",
    "    https://stackoverflow.com/questions/52349884/create-a-nested-dictionary-using-recursion-python\n",
    "    \"\"\"\n",
    "    if data:\n",
    "        head, *tail = data  # This is a nicer way of doing head, tail = data[0], data[1:]\n",
    "        return {head: split(tail,value)}\n",
    "    else:\n",
    "        return value  \n",
    "        # this returns the value to the previous split() \n",
    "        #    which sets it in the line above by calling itself and returns the datastructure\n",
    "        #    now that data is None, the complete dataStructure is returned back up through call stack\n",
    "        #    to the original call.  \n",
    "        # It's way over my head!\n",
    "    \n",
    "d= split('nodes color background red'.split(), value = 'red')\n",
    "d2= split('nodes color border green'.split(), value = 'green')\n",
    "d,d2"
   ]
  },
  {
   "cell_type": "code",
   "execution_count": 4,
   "metadata": {},
   "outputs": [],
   "source": [
    "#https://github.com/clarketm/mergedeep/tree/master/mergedeep\n",
    "from collections import Counter\n",
    "from collections.abc import Mapping\n",
    "from copy import deepcopy\n",
    "from enum import Enum\n",
    "from functools import reduce, partial\n",
    "from typing import MutableMapping\n",
    "\n",
    "\n",
    "\n",
    "\n",
    "class Strategy(Enum):\n",
    "    # Replace `destination` item with one from `source` (default).\n",
    "    REPLACE = 0\n",
    "    # Combine `list`, `tuple`, `set`, or `Counter` types into one collection.\n",
    "    ADDITIVE = 1\n",
    "    # Alias to: `TYPESAFE_REPLACE`\n",
    "    TYPESAFE = 2\n",
    "    # Raise `TypeError` when `destination` and `source` types differ. Otherwise, perform a `REPLACE` merge.\n",
    "    TYPESAFE_REPLACE = 3\n",
    "    # Raise `TypeError` when `destination` and `source` types differ. Otherwise, perform a `ADDITIVE` merge.\n",
    "    TYPESAFE_ADDITIVE = 4\n",
    "\n",
    "\n",
    "def _handle_merge_replace(destination, source, key):\n",
    "    if isinstance(destination[key], Counter) and isinstance(source[key], Counter):\n",
    "        # Merge both destination and source `Counter` as if they were a standard dict.\n",
    "        _deepmerge(destination[key], source[key])\n",
    "    else:\n",
    "        # If a key exists in both objects and the values are `different`, the value from the `source` object will be used.\n",
    "        destination[key] = deepcopy(source[key])\n",
    "\n",
    "\n",
    "def _handle_merge_additive(destination, source, key):\n",
    "    # Values are combined into one long collection.\n",
    "    if isinstance(destination[key], list) and isinstance(source[key], list):\n",
    "        # Extend destination if both destination and source are `list` type.\n",
    "        destination[key].extend(deepcopy(source[key]))\n",
    "    elif isinstance(destination[key], set) and isinstance(source[key], set):\n",
    "        # Update destination if both destination and source are `set` type.\n",
    "        destination[key].update(deepcopy(source[key]))\n",
    "    elif isinstance(destination[key], tuple) and isinstance(source[key], tuple):\n",
    "        # Update destination if both destination and source are `tuple` type.\n",
    "        destination[key] = destination[key] + deepcopy(source[key])\n",
    "    elif isinstance(destination[key], Counter) and isinstance(source[key], Counter):\n",
    "        # Update destination if both destination and source are `Counter` type.\n",
    "        destination[key].update(deepcopy(source[key]))\n",
    "    else:\n",
    "        _handle_merge[Strategy.REPLACE](destination, source, key)\n",
    "\n",
    "\n",
    "def _handle_merge_typesafe(destination, source, key, strategy):\n",
    "    # Raise a TypeError if the destination and source types differ.\n",
    "    if type(destination[key]) is not type(source[key]):\n",
    "        raise TypeError(\n",
    "            f'destination type: {type(destination[key])} differs from source type: {type(source[key])} for key: \"{key}\"'\n",
    "        )\n",
    "    else:\n",
    "        _handle_merge[strategy](destination, source, key)\n",
    "\n",
    "\n",
    "_handle_merge = {\n",
    "    Strategy.REPLACE: _handle_merge_replace,\n",
    "    Strategy.ADDITIVE: _handle_merge_additive,\n",
    "    Strategy.TYPESAFE: partial(_handle_merge_typesafe, strategy=Strategy.REPLACE),\n",
    "    Strategy.TYPESAFE_REPLACE: partial(_handle_merge_typesafe, strategy=Strategy.REPLACE),\n",
    "    Strategy.TYPESAFE_ADDITIVE: partial(_handle_merge_typesafe, strategy=Strategy.ADDITIVE),\n",
    "}\n",
    "\n",
    "\n",
    "def _is_recursive_merge(a, b):\n",
    "    both_mapping = isinstance(a, Mapping) and isinstance(b, Mapping)\n",
    "    both_counter = isinstance(a, Counter) and isinstance(b, Counter)\n",
    "    return both_mapping and not both_counter\n",
    "\n",
    "\n",
    "def _deepmerge(dst, src, strategy=Strategy.REPLACE):\n",
    "    for key in src:\n",
    "        if key in dst:\n",
    "            if _is_recursive_merge(dst[key], src[key]):\n",
    "                # If the key for both `dst` and `src` are both Mapping types (e.g. dict), then recurse.\n",
    "                _deepmerge(dst[key], src[key], strategy)\n",
    "            elif dst[key] is src[key]:\n",
    "                # If a key exists in both objects and the values are `same`, the value from the `dst` object will be used.\n",
    "                pass\n",
    "            else:\n",
    "                _handle_merge.get(strategy)(dst, src, key)\n",
    "        else:\n",
    "            # If the key exists only in `src`, the value from the `src` object will be used.\n",
    "            dst[key] = deepcopy(src[key])\n",
    "    return dst\n",
    "\n",
    "\n",
    "def merge(destination: MutableMapping, *sources: Mapping, strategy: Strategy = Strategy.REPLACE) -> MutableMapping:\n",
    "    \"\"\"\n",
    "    A deep merge function for 🐍.\n",
    "\n",
    "    :param destination: The destination mapping.\n",
    "    :param sources: The source mappings.\n",
    "    :param strategy: The merge strategy.\n",
    "    :return:\n",
    "    \"\"\"\n",
    "    return reduce(partial(_deepmerge, strategy=strategy), sources, destination)\n",
    "\n"
   ]
  },
  {
   "cell_type": "markdown",
   "metadata": {},
   "source": [
    "\n"
   ]
  },
  {
   "cell_type": "code",
   "execution_count": 5,
   "metadata": {},
   "outputs": [
    {
     "ename": "NameError",
     "evalue": "name 'split' is not defined",
     "output_type": "error",
     "traceback": [
      "\u001b[0;31m---------------------------------------------------------------------------\u001b[0m",
      "\u001b[0;31mNameError\u001b[0m                                 Traceback (most recent call last)",
      "\u001b[0;32m<ipython-input-5-faa7457bbec6>\u001b[0m in \u001b[0;36m<module>\u001b[0;34m\u001b[0m\n\u001b[1;32m     20\u001b[0m \u001b[0;34m\u001b[0m\u001b[0m\n\u001b[1;32m     21\u001b[0m \u001b[0;34m\u001b[0m\u001b[0m\n\u001b[0;32m---> 22\u001b[0;31m \u001b[0md1\u001b[0m \u001b[0;34m=\u001b[0m \u001b[0mmakeOpt\u001b[0m\u001b[0;34m(\u001b[0m\u001b[0;34m'nodes color background red'\u001b[0m\u001b[0;34m)\u001b[0m\u001b[0;34m\u001b[0m\u001b[0;34m\u001b[0m\u001b[0m\n\u001b[0m\u001b[1;32m     23\u001b[0m \u001b[0md2\u001b[0m \u001b[0;34m=\u001b[0m \u001b[0mmakeOpt\u001b[0m\u001b[0;34m(\u001b[0m\u001b[0;34m'nodes color border green'\u001b[0m\u001b[0;34m)\u001b[0m\u001b[0;34m\u001b[0m\u001b[0;34m\u001b[0m\u001b[0m\n\u001b[1;32m     24\u001b[0m \u001b[0md3\u001b[0m \u001b[0;34m=\u001b[0m \u001b[0mmakeOpt\u001b[0m\u001b[0;34m(\u001b[0m\u001b[0;34m'nodes shape box'\u001b[0m\u001b[0;34m)\u001b[0m\u001b[0;34m\u001b[0m\u001b[0;34m\u001b[0m\u001b[0m\n",
      "\u001b[0;32m<ipython-input-5-faa7457bbec6>\u001b[0m in \u001b[0;36mmakeOpt\u001b[0;34m(line)\u001b[0m\n\u001b[1;32m     17\u001b[0m     \u001b[0mvalue\u001b[0m \u001b[0;34m=\u001b[0m \u001b[0mfixV\u001b[0m\u001b[0;34m(\u001b[0m\u001b[0mwords\u001b[0m\u001b[0;34m.\u001b[0m\u001b[0mpop\u001b[0m\u001b[0;34m(\u001b[0m\u001b[0;34m)\u001b[0m\u001b[0;34m)\u001b[0m\u001b[0;34m\u001b[0m\u001b[0;34m\u001b[0m\u001b[0m\n\u001b[1;32m     18\u001b[0m \u001b[0;34m\u001b[0m\u001b[0m\n\u001b[0;32m---> 19\u001b[0;31m     \u001b[0;32mreturn\u001b[0m \u001b[0msplit\u001b[0m\u001b[0;34m(\u001b[0m\u001b[0mwords\u001b[0m\u001b[0;34m,\u001b[0m \u001b[0mvalue\u001b[0m\u001b[0;34m)\u001b[0m\u001b[0;34m\u001b[0m\u001b[0;34m\u001b[0m\u001b[0m\n\u001b[0m\u001b[1;32m     20\u001b[0m \u001b[0;34m\u001b[0m\u001b[0m\n\u001b[1;32m     21\u001b[0m \u001b[0;34m\u001b[0m\u001b[0m\n",
      "\u001b[0;31mNameError\u001b[0m: name 'split' is not defined"
     ]
    }
   ],
   "source": [
    "def fixV(s):\n",
    "    \"\"\"\n",
    "    deal with non-string values\n",
    "    \"\"\"\n",
    "    if s in ['True', 'true']: return True\n",
    "    if s in ['False', 'false']: return False\n",
    "    try: # to convert to a number\n",
    "        return(int(s))\n",
    "    except:\n",
    "        return s #then just return as is\n",
    "\n",
    "def makeOpt(line = 'nodes color background red'):\n",
    "    \"\"\"\n",
    "    prepare string for split\n",
    "    \"\"\"\n",
    "    words = line.split()\n",
    "    value = fixV(words.pop())\n",
    "        \n",
    "    return split(words, value)\n",
    "\n",
    "\n",
    "d1 = makeOpt('nodes color background red')\n",
    "d2 = makeOpt('nodes color border green')\n",
    "d3 = makeOpt('nodes shape box')\n",
    "options = merge(d1,d2,d3)\n",
    "options"
   ]
  },
  {
   "cell_type": "code",
   "execution_count": 6,
   "metadata": {},
   "outputs": [
    {
     "ename": "NameError",
     "evalue": "name 'split' is not defined",
     "output_type": "error",
     "traceback": [
      "\u001b[0;31m---------------------------------------------------------------------------\u001b[0m",
      "\u001b[0;31mNameError\u001b[0m                                 Traceback (most recent call last)",
      "\u001b[0;32m<ipython-input-6-253dbbd495a7>\u001b[0m in \u001b[0;36m<module>\u001b[0;34m\u001b[0m\n\u001b[0;32m----> 1\u001b[0;31m \u001b[0moptions\u001b[0m \u001b[0;34m=\u001b[0m \u001b[0mmerge\u001b[0m\u001b[0;34m(\u001b[0m\u001b[0mmakeOpt\u001b[0m\u001b[0;34m(\u001b[0m\u001b[0;34m'nodes borderWidth 12'\u001b[0m\u001b[0;34m)\u001b[0m\u001b[0;34m,\u001b[0m \u001b[0moptions\u001b[0m\u001b[0;34m)\u001b[0m\u001b[0;34m\u001b[0m\u001b[0;34m\u001b[0m\u001b[0m\n\u001b[0m\u001b[1;32m      2\u001b[0m \u001b[0moptions\u001b[0m\u001b[0;34m\u001b[0m\u001b[0;34m\u001b[0m\u001b[0m\n",
      "\u001b[0;32m<ipython-input-5-faa7457bbec6>\u001b[0m in \u001b[0;36mmakeOpt\u001b[0;34m(line)\u001b[0m\n\u001b[1;32m     17\u001b[0m     \u001b[0mvalue\u001b[0m \u001b[0;34m=\u001b[0m \u001b[0mfixV\u001b[0m\u001b[0;34m(\u001b[0m\u001b[0mwords\u001b[0m\u001b[0;34m.\u001b[0m\u001b[0mpop\u001b[0m\u001b[0;34m(\u001b[0m\u001b[0;34m)\u001b[0m\u001b[0;34m)\u001b[0m\u001b[0;34m\u001b[0m\u001b[0;34m\u001b[0m\u001b[0m\n\u001b[1;32m     18\u001b[0m \u001b[0;34m\u001b[0m\u001b[0m\n\u001b[0;32m---> 19\u001b[0;31m     \u001b[0;32mreturn\u001b[0m \u001b[0msplit\u001b[0m\u001b[0;34m(\u001b[0m\u001b[0mwords\u001b[0m\u001b[0;34m,\u001b[0m \u001b[0mvalue\u001b[0m\u001b[0;34m)\u001b[0m\u001b[0;34m\u001b[0m\u001b[0;34m\u001b[0m\u001b[0m\n\u001b[0m\u001b[1;32m     20\u001b[0m \u001b[0;34m\u001b[0m\u001b[0m\n\u001b[1;32m     21\u001b[0m \u001b[0;34m\u001b[0m\u001b[0m\n",
      "\u001b[0;31mNameError\u001b[0m: name 'split' is not defined"
     ]
    }
   ],
   "source": [
    "options = merge(makeOpt('nodes borderWidth 12'), options)\n",
    "options"
   ]
  },
  {
   "cell_type": "code",
   "execution_count": null,
   "metadata": {},
   "outputs": [],
   "source": []
  }
 ],
 "metadata": {
  "kernelspec": {
   "display_name": "Python 3",
   "language": "python",
   "name": "python3"
  },
  "language_info": {
   "codemirror_mode": {
    "name": "ipython",
    "version": 3
   },
   "file_extension": ".py",
   "mimetype": "text/x-python",
   "name": "python",
   "nbconvert_exporter": "python",
   "pygments_lexer": "ipython3",
   "version": "3.7.4"
  }
 },
 "nbformat": 4,
 "nbformat_minor": 4
}
