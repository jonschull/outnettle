{
 "cells": [
  {
   "cell_type": "code",
   "execution_count": 1,
   "metadata": {},
   "outputs": [],
   "source": [
    "graphString=\"\"\"id a\n",
    "\tlabel a multi word label\n",
    "\tlinkto b\n",
    "    linkto c\n",
    "    linkto d\n",
    "id b\n",
    "\tlinkto\n",
    "\tlabel b\n",
    "options \n",
    "    nodes\n",
    "\t\tcolor pink\n",
    "\t\tcolor red\n",
    "\t\tcolor border red\n",
    "\t\tborderWidth 10\n",
    "\"\"\"\n",
    "\n",
    "graphString=\"\"\"id a\n",
    "\tlinkto b c d\n",
    "\"\"\""
   ]
  },
  {
   "cell_type": "code",
   "execution_count": 2,
   "metadata": {},
   "outputs": [],
   "source": [
    "#https://github.com/clarketm/mergedeep/tree/master/mergedeep\n",
    "from collections import Counter\n",
    "from collections.abc import Mapping\n",
    "from copy import deepcopy\n",
    "from enum import Enum\n",
    "from functools import reduce, partial\n",
    "from typing import MutableMapping\n",
    "\n",
    "\n",
    "\n",
    "class Strategy(Enum):\n",
    "    # Replace `destination` item with one from `source` (default).\n",
    "    REPLACE = 0\n",
    "    # Combine `list`, `tuple`, `set`, or `Counter` types into one collection.\n",
    "    ADDITIVE = 1\n",
    "    # Alias to: `TYPESAFE_REPLACE`\n",
    "    TYPESAFE = 2\n",
    "    # Raise `TypeError` when `destination` and `source` types differ. Otherwise, perform a `REPLACE` merge.\n",
    "    TYPESAFE_REPLACE = 3\n",
    "    # Raise `TypeError` when `destination` and `source` types differ. Otherwise, perform a `ADDITIVE` merge.\n",
    "    TYPESAFE_ADDITIVE = 4\n",
    "\n",
    "\n",
    "def _handle_merge_replace(destination, source, key):\n",
    "    if isinstance(destination[key], Counter) and isinstance(source[key], Counter):\n",
    "        # Merge both destination and source `Counter` as if they were a standard dict.\n",
    "        _deepmerge(destination[key], source[key])\n",
    "    else:\n",
    "        # If a key exists in both objects and the values are `different`, the value from the `source` object will be used.\n",
    "        destination[key] = deepcopy(source[key])\n",
    "\n",
    "\n",
    "def _handle_merge_additive(destination, source, key):\n",
    "    # Values are combined into one long collection.\n",
    "    if isinstance(destination[key], list) and isinstance(source[key], list):\n",
    "        # Extend destination if both destination and source are `list` type.\n",
    "        destination[key].extend(deepcopy(source[key]))\n",
    "    elif isinstance(destination[key], set) and isinstance(source[key], set):\n",
    "        # Update destination if both destination and source are `set` type.\n",
    "        destination[key].update(deepcopy(source[key]))\n",
    "    elif isinstance(destination[key], tuple) and isinstance(source[key], tuple):\n",
    "        # Update destination if both destination and source are `tuple` type.\n",
    "        destination[key] = destination[key] + deepcopy(source[key])\n",
    "    elif isinstance(destination[key], Counter) and isinstance(source[key], Counter):\n",
    "        # Update destination if both destination and source are `Counter` type.\n",
    "        destination[key].update(deepcopy(source[key]))\n",
    "    else:\n",
    "        _handle_merge[Strategy.REPLACE](destination, source, key)\n",
    "\n",
    "\n",
    "def _handle_merge_typesafe(destination, source, key, strategy):\n",
    "    # Raise a TypeError if the destination and source types differ.\n",
    "    if type(destination[key]) is not type(source[key]):\n",
    "        raise TypeError(\n",
    "            f'destination type: {type(destination[key])} differs from source type: {type(source[key])} for key: \"{key}\"'\n",
    "        )\n",
    "    else:\n",
    "        _handle_merge[strategy](destination, source, key)\n",
    "\n",
    "\n",
    "_handle_merge = {\n",
    "    Strategy.REPLACE: _handle_merge_replace,\n",
    "    Strategy.ADDITIVE: _handle_merge_additive,\n",
    "    Strategy.TYPESAFE: partial(_handle_merge_typesafe, strategy=Strategy.REPLACE),\n",
    "    Strategy.TYPESAFE_REPLACE: partial(_handle_merge_typesafe, strategy=Strategy.REPLACE),\n",
    "    Strategy.TYPESAFE_ADDITIVE: partial(_handle_merge_typesafe, strategy=Strategy.ADDITIVE),\n",
    "}\n",
    "\n",
    "\n",
    "def _is_recursive_merge(a, b):\n",
    "    both_mapping = isinstance(a, Mapping) and isinstance(b, Mapping)\n",
    "    both_counter = isinstance(a, Counter) and isinstance(b, Counter)\n",
    "    return both_mapping and not both_counter\n",
    "\n",
    "\n",
    "def _deepmerge(dst, src, strategy=Strategy.REPLACE):\n",
    "    for key in src:\n",
    "        if key in dst:\n",
    "            if _is_recursive_merge(dst[key], src[key]):\n",
    "                # If the key for both `dst` and `src` are both Mapping types (e.g. dict), then recurse.\n",
    "                _deepmerge(dst[key], src[key], strategy)\n",
    "            elif dst[key] is src[key]:\n",
    "                # If a key exists in both objects and the values are `same`, the value from the `dst` object will be used.\n",
    "                pass\n",
    "            else:\n",
    "                _handle_merge.get(strategy)(dst, src, key)\n",
    "        else:\n",
    "            # If the key exists only in `src`, the value from the `src` object will be used.\n",
    "            dst[key] = deepcopy(src[key])\n",
    "    return dst\n",
    "\n",
    "\n",
    "def merge(destination: MutableMapping, *sources: Mapping, strategy: Strategy = Strategy.REPLACE) -> MutableMapping:\n",
    "    \"\"\"\n",
    "    A deep merge function for 🐍.\n",
    "\n",
    "    :param destination: The destination mapping.\n",
    "    :param sources: The source mappings.\n",
    "    :param strategy: The merge strategy.\n",
    "    :return:\n",
    "    \"\"\"\n",
    "    return reduce(partial(_deepmerge, strategy=strategy), sources, destination)\n",
    "\n",
    "def split(data, value=2):\n",
    "    \"\"\"recursively turn a set of words into a nested dict\n",
    "    https://stackoverflow.com/questions/52349884/create-a-nested-dictionary-using-recursion-python\n",
    "    \"\"\"\n",
    "    if data:\n",
    "        head, *tail = data  # This is a nicer way of doing head, tail = data[0], data[1:]\n",
    "        return {head: split(tail,value)}\n",
    "    else:\n",
    "        return value  \n",
    "        # this returns the value to the previous split() \n",
    "        #    which sets it in the line above by calling itself and returns the datastructure\n",
    "        #    now that data is None, the complete dataStructure is returned back up through call stack\n",
    "        #    to the original call.  \n",
    "        # It's way over my head!\n",
    "    \n",
    "\n",
    "\n",
    "def fixV(s):\n",
    "    \"\"\"\n",
    "    deal with non-string values\n",
    "    \"\"\"\n",
    "    if s in ['True', 'true']: return True\n",
    "    if s in ['False', 'false']: return False\n",
    "    try: # to convert to a number\n",
    "        return(int(s))\n",
    "    except:\n",
    "        return s #then just return as is\n",
    "\n",
    "def makeOpt(line = 'nodes color background red'):\n",
    "    \"\"\"\n",
    "    prepare string for split\n",
    "    \"\"\"\n",
    "    words = line.split()\n",
    "    value = fixV(words.pop())\n",
    "        \n",
    "    return split(words, value)\n",
    "\n",
    "\n",
    "TESTING=False\n",
    "if TESTING:\n",
    "    d1 = makeOpt('nodes color background red')\n",
    "    d2 = makeOpt('nodes color border green')\n",
    "    d3 = makeOpt('nodes shape box')\n",
    "    options = merge(d1,d2,d3)\n",
    "    print(options)\n",
    "\n",
    "    options = merge(options, makeOpt('nodes borderWidth 12'))\n",
    "\n",
    "    print(options)\n",
    "\n"
   ]
  },
  {
   "cell_type": "code",
   "execution_count": null,
   "metadata": {},
   "outputs": [],
   "source": []
  },
  {
   "cell_type": "code",
   "execution_count": null,
   "metadata": {},
   "outputs": [],
   "source": []
  },
  {
   "cell_type": "code",
   "execution_count": 3,
   "metadata": {},
   "outputs": [],
   "source": [
    "graphString=\"\"\"id a\n",
    "\tlabel a multi word label /more than one line\n",
    "\tlinkto  b\n",
    "id b\n",
    "\tlabel b\n",
    "defaults edges\n",
    "\t\tcolor pink\n",
    "\t\tcolor red\n",
    "\t\tcolor border red\n",
    "\t\tborderWidth 10\n",
    "defaults nodes\n",
    "\t\tcolor pink\n",
    "\t\tcolor red\n",
    "\t\tcolor border red\n",
    "\t\tborderWidth 10\"\"\"\n",
    "\n",
    "#note: use of defaults \n",
    "#note: no blank linktos"
   ]
  },
  {
   "cell_type": "code",
   "execution_count": 4,
   "metadata": {},
   "outputs": [
    {
     "data": {
      "text/plain": [
       "['id a\\n\\tlabel a multi word label /more than one line\\n\\tlinkto  b\\n',\n",
       " 'id b\\n\\tlabel b\\n',\n",
       " 'defaults edges\\n\\t\\tcolor pink\\n\\t\\tcolor red\\n\\t\\tcolor border red\\n\\t\\tborderWidth 10\\n',\n",
       " 'defaults nodes\\n\\t\\tcolor pink\\n\\t\\tcolor red\\n\\t\\tcolor border red\\n\\t\\tborderWidth 10']"
      ]
     },
     "execution_count": 4,
     "metadata": {},
     "output_type": "execute_result"
    }
   ],
   "source": [
    "import string\n",
    "def getChunks(graphString=graphString):\n",
    "    \"\"\"\n",
    "    break graphString at non-indented lines\n",
    "    \"\"\"\n",
    "    #put break signal in non-indented lines\n",
    "    lines=graphString.split('\\n') \n",
    "    for i,line in enumerate(lines):\n",
    "        if line.strip():\n",
    "            if line[0] in string.ascii_letters: \n",
    "                lines[i] = '@@' + line\n",
    "\n",
    "                \n",
    "    #rejoin them \n",
    "    withBreaks = '\\n'.join(lines)\n",
    "    splitAtBreaks =  withBreaks.split('@@')\n",
    "\n",
    "    return [line for line in splitAtBreaks if line.strip()] #return non-null ines\n",
    "\n",
    "getChunks()"
   ]
  },
  {
   "cell_type": "code",
   "execution_count": 5,
   "metadata": {},
   "outputs": [
    {
     "name": "stdout",
     "output_type": "stream",
     "text": [
      "id a\n",
      "\tlabel a multi word label /more than one line\n",
      "\tlinkto  b\n",
      "\n"
     ]
    }
   ],
   "source": [
    "print(getChunks()[0])"
   ]
  },
  {
   "cell_type": "code",
   "execution_count": 6,
   "metadata": {},
   "outputs": [
    {
     "data": {
      "text/plain": [
       "(['id a\\n\\tlabel a multi word label /more than one line\\n\\tlinkto  b\\n',\n",
       "  'id b\\n\\tlabel b\\n'],\n",
       " ['defaults edges\\n\\t\\tcolor pink\\n\\t\\tcolor red\\n\\t\\tcolor border red\\n\\t\\tborderWidth 10\\n',\n",
       "  'defaults nodes\\n\\t\\tcolor pink\\n\\t\\tcolor red\\n\\t\\tcolor border red\\n\\t\\tborderWidth 10'])"
      ]
     },
     "execution_count": 6,
     "metadata": {},
     "output_type": "execute_result"
    }
   ],
   "source": [
    "def classify(chunks):\n",
    "    nodeLines=[]\n",
    "    optionLines=[]\n",
    "    for chunk in chunks:\n",
    "        if chunk.startswith('id'):\n",
    "            nodeLines.append(chunk)\n",
    "        else:\n",
    "            optionLines.append(chunk)   \n",
    "\n",
    "    return nodeLines, optionLines\n",
    "\n",
    "nodeLines, optionLines = classify(getChunks())\n",
    "nodeLines, optionLines"
   ]
  },
  {
   "cell_type": "code",
   "execution_count": 7,
   "metadata": {},
   "outputs": [
    {
     "data": {
      "text/plain": [
       "[{'id': 'a',\n",
       "  'label': 'a multi word label \\nmore than one line',\n",
       "  'linkto': 'b'},\n",
       " {'id': 'b', 'label': 'b'}]"
      ]
     },
     "execution_count": 7,
     "metadata": {},
     "output_type": "execute_result"
    }
   ],
   "source": [
    "def nodesFromNodeLines(nodeLines):\n",
    "    #print('nodeLines in:', nodeLines)\n",
    "    nodes=[]\n",
    "    for nodeLine in nodeLines: \n",
    "        node = {}\n",
    "        for phrase in nodeLine.split('\\n'):\n",
    "            phraseStripped = phrase.strip()\n",
    "            if phraseStripped:\n",
    "                if phraseStripped.startswith('linkto'):\n",
    "                    node['linkto'] = phrase.replace('linkto','').strip() #linkto a b c should not be makeOpted\n",
    "                elif phraseStripped.startswith('label '):\n",
    "                    node['label']=phraseStripped.split('label ',1)[1].replace('/','\\n')\n",
    "                else:\n",
    "                    try:\n",
    "                        node = merge(node, makeOpt(phrase))\n",
    "                    except:\n",
    "                        print('?'+phrase)\n",
    "        nodes.append(node)\n",
    "    return nodes # finito!\n",
    "\n",
    "nodes = nodesFromNodeLines(nodeLines)\n",
    "nodes"
   ]
  },
  {
   "cell_type": "code",
   "execution_count": 8,
   "metadata": {},
   "outputs": [
    {
     "data": {
      "text/plain": [
       "[{'id': 'Welcome', 'label': 'test'}]"
      ]
     },
     "execution_count": 8,
     "metadata": {},
     "output_type": "execute_result"
    }
   ],
   "source": [
    "nodesFromNodeLines(['id Welcome\\n\\t label test'])"
   ]
  },
  {
   "cell_type": "code",
   "execution_count": 9,
   "metadata": {},
   "outputs": [
    {
     "data": {
      "text/plain": [
       "{'edges': {'color': {'border': 'red'}, 'borderWidth': 10},\n",
       " 'nodes': {'color': {'border': 'red'}, 'borderWidth': 10}}"
      ]
     },
     "execution_count": 9,
     "metadata": {},
     "output_type": "execute_result"
    }
   ],
   "source": [
    "def optionsFromOptionLines(optionLines):\n",
    "    options = {}\n",
    "    for optionLine in optionLines:\n",
    "        optionSet={}\n",
    "        phrases = optionLine.split('\\n')\n",
    "        if len(phrases[0].split(' '))<2: \n",
    "            return {}\n",
    "        kind = phrases.pop(0).split(' ')[1].strip() #presumes two words; keep 'edge' discard 'default' \n",
    "\n",
    "        for phrase in phrases:\n",
    "            if len(phrase.split(' '))>1: #will fail\n",
    "                try:\n",
    "                    optionSet = merge(optionSet, (makeOpt(phrase)))\n",
    "                except:\n",
    "                    print('.'+phrase,end='')\n",
    "                    return {}\n",
    "                    \n",
    "\n",
    "        options[kind] = optionSet\n",
    "    return options\n",
    "optionsFromOptionLines(optionLines)"
   ]
  },
  {
   "cell_type": "code",
   "execution_count": 10,
   "metadata": {},
   "outputs": [
    {
     "data": {
      "text/plain": [
       "([{'id': 'a',\n",
       "   'label': 'a multi word label \\nmore than one line',\n",
       "   'linkto': 'b'},\n",
       "  {'id': 'b', 'label': 'b'}],\n",
       " [{'from': 'a', 'to': 'b'}],\n",
       " {'edges': {'color': {'border': 'red'}, 'borderWidth': 10},\n",
       "  'nodes': {'color': {'border': 'red'}, 'borderWidth': 10}})"
      ]
     },
     "execution_count": 10,
     "metadata": {},
     "output_type": "execute_result"
    }
   ],
   "source": [
    "def nodesEdgesOptions(graphString=graphString):\n",
    "    \n",
    "    chunks = getChunks(graphString)\n",
    "    nodeLines, optionLines = classify(chunks)\n",
    "    \n",
    "    nodes    = nodesFromNodeLines( nodeLines )\n",
    "    options  = optionsFromOptionLines( optionLines)\n",
    "\n",
    "    edges = []\n",
    "    for node in nodes:\n",
    "        if 'linkto' in node.keys():\n",
    "            for linkto in node['linkto'].split(' '):\n",
    "                edges.append( {'from':node['id'], 'to':linkto} )\n",
    "\n",
    "    return nodes, edges, options\n",
    "\n",
    "\n",
    "nodesEdgesOptions()"
   ]
  },
  {
   "cell_type": "code",
   "execution_count": 11,
   "metadata": {},
   "outputs": [],
   "source": [
    "import subprocess\n",
    "if subprocess.run.__doc__:\n",
    "    cmd = 'jupyter nbconvert --to python parseLeft.ipynb'\n",
    "    subprocess.run(cmd.split(' '))\n"
   ]
  },
  {
   "cell_type": "code",
   "execution_count": null,
   "metadata": {},
   "outputs": [],
   "source": []
  },
  {
   "cell_type": "code",
   "execution_count": null,
   "metadata": {},
   "outputs": [],
   "source": []
  }
 ],
 "metadata": {
  "kernelspec": {
   "display_name": "Python 3",
   "language": "python",
   "name": "python3"
  },
  "language_info": {
   "codemirror_mode": {
    "name": "ipython",
    "version": 3
   },
   "file_extension": ".py",
   "mimetype": "text/x-python",
   "name": "python",
   "nbconvert_exporter": "python",
   "pygments_lexer": "ipython3",
   "version": "3.7.4"
  }
 },
 "nbformat": 4,
 "nbformat_minor": 4
}
