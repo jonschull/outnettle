{
 "cells": [
  {
   "cell_type": "markdown",
   "metadata": {},
   "source": []
  },
  {
   "cell_type": "code",
   "execution_count": 1,
   "metadata": {},
   "outputs": [],
   "source": [
    "\"\"\"plan \n",
    "    allow comments\n",
    "    prevent lingering options\n",
    "    fix borderWidth on items\n",
    "\"\"\";"
   ]
  },
  {
   "cell_type": "code",
   "execution_count": 90,
   "metadata": {},
   "outputs": [
    {
     "data": {
      "text/plain": [
       "'id a\\n\\tlabel a\\n\\tlinkto\\nid b\\nnodes\\n\\tcolor pink\\n\\tcolor border red'"
      ]
     },
     "execution_count": 90,
     "metadata": {},
     "output_type": "execute_result"
    }
   ],
   "source": [
    "graphString=\"\"\"id a\n",
    "\tlabel a\n",
    "\tlinkto\n",
    "id b\n",
    "nodes\n",
    "\tcolor pink\n",
    "\tcolor border red\"\"\"\n",
    "graphString"
   ]
  },
  {
   "cell_type": "code",
   "execution_count": 73,
   "metadata": {},
   "outputs": [],
   "source": [
    "graphString=\"\"\"id a\n",
    "\tlabel a\n",
    "\tlinkto  b\n",
    "id b\n",
    "\tlinkto\n",
    "\tlabel b\n",
    "nodes\n",
    "\tcolor pink\n",
    "    color red\n",
    "    color border red\n",
    "\tborderWidth 10\n",
    "\"\"\""
   ]
  },
  {
   "cell_type": "code",
   "execution_count": 59,
   "metadata": {},
   "outputs": [
    {
     "data": {
      "text/plain": [
       "9"
      ]
     },
     "execution_count": 59,
     "metadata": {},
     "output_type": "execute_result"
    }
   ],
   "source": []
  },
  {
   "cell_type": "code",
   "execution_count": 98,
   "metadata": {},
   "outputs": [
    {
     "data": {
      "text/plain": [
       "['id a\\n\\tlabel a\\n\\tlinkto\\n',\n",
       " 'id b\\n',\n",
       " 'nodes\\n\\tcolor pink\\n\\tcolor border red']"
      ]
     },
     "execution_count": 98,
     "metadata": {},
     "output_type": "execute_result"
    }
   ],
   "source": [
    "def getChunks(graphString=graphString):\n",
    "    global lines\n",
    "    \"\"\"each chunk is a string that needs to be converted into a record\"\"\"\n",
    "    lines = graphString.split('\\n')\n",
    "    withBreaks = []\n",
    "    #print('lines', lines)\n",
    "    for line in lines:\n",
    "        while line.startswith('    '):\n",
    "            line=line.replace('    ','\\t')\n",
    "        if not line.startswith('\\t'):\n",
    "            withBreaks.append('@@' + line)\n",
    "        else:\n",
    "            withBreaks.append(line)\n",
    "    rejoined = '\\n'.join(withBreaks)\n",
    "    #print('rejoined', rejoined)\n",
    "    ret=[ _ for _  in rejoined.split('@@') if _.strip()]\n",
    "    return ret\n",
    "getChunks()"
   ]
  },
  {
   "cell_type": "code",
   "execution_count": null,
   "metadata": {},
   "outputs": [],
   "source": [
    "['id a\\n\\tlabel a\\n\\tlinkto  b\\n',\n",
    " 'id b\\n\\tlinkto\\n\\tlabel b\\n',\n",
    " 'nodes\\n\\tcolor pink\\n\\tcolor red\\n\\tborderWidth 10\\n']"
   ]
  },
  {
   "cell_type": "code",
   "execution_count": null,
   "metadata": {},
   "outputs": [],
   "source": []
  },
  {
   "cell_type": "code",
   "execution_count": 89,
   "metadata": {
    "collapsed": true,
    "jupyter": {
     "outputs_hidden": true
    }
   },
   "outputs": [
    {
     "data": {
      "text/plain": [
       "[['id a', 'label a', 'linkto  b'],\n",
       " ['id b', 'linkto', 'label b'],\n",
       " ['nodes', 'color pink', 'color red', 'color border red', 'borderWidth 10']]"
      ]
     },
     "execution_count": 89,
     "metadata": {},
     "output_type": "execute_result"
    }
   ],
   "source": [
    "keywords = \"\"\"\"id label url title linkto color shape\n",
    "font nodes edges x y layout physics hierarchical border\n",
    "borderWidth background opacity hidden\"\"\".split()\n",
    "\n",
    "def getRecords(graphString):\n",
    "    \"\"\"each record is a list of phrases taht will become a key value pair\n",
    "    complexity comes from fact that labels can be multi-line\"\"\"\n",
    "    chunks = getChunks(graphString)\n",
    "    records = []\n",
    "    for chunk in chunks:\n",
    "        for keyword in keywords: #we are now assuming indents\n",
    "            chunk=chunk.replace('\\n\\t'+ keyword,'BREAK'+ keyword) #keywords must be at beginning\n",
    "        lines=chunk.split('BREAK')\n",
    "        records.append([line.strip() for line in lines if line.strip()])\n",
    "    return records #used by getOptions and getNodes\n",
    "\n",
    "getRecords(graphString)"
   ]
  },
  {
   "cell_type": "code",
   "execution_count": 144,
   "metadata": {},
   "outputs": [
    {
     "name": "stdout",
     "output_type": "stream",
     "text": [
      "id a\n",
      "\tlabel a\n",
      "\tlinkto\n",
      "\n",
      "--\n",
      "id b\n",
      "\n",
      "--\n",
      "nodes\n",
      "\tcolor pink\n",
      "\tcolor border red\n",
      "--\n"
     ]
    }
   ],
   "source": [
    "for line in getChunks():\n",
    "    print(line)\n",
    "    print('--')\n",
    "    if "
   ]
  },
  {
   "cell_type": "code",
   "execution_count": 125,
   "metadata": {},
   "outputs": [
    {
     "name": "stdout",
     "output_type": "stream",
     "text": [
      "{id:\n",
      "{id:\n",
      "{nodes\n",
      "\tcolor:\n"
     ]
    }
   ],
   "source": [
    "####new approach\n",
    "linesWithOptions=[]\n",
    "for line in getChunks():\n",
    "    render(line)\n",
    "  "
   ]
  },
  {
   "cell_type": "code",
   "execution_count": 11,
   "metadata": {
    "collapsed": true,
    "jupyter": {
     "outputs_hidden": true
    }
   },
   "outputs": [
    {
     "name": "stdout",
     "output_type": "stream",
     "text": [
      "lenVs 1 ['a']\n",
      "lenVs 1 ['b']\n",
      "lenVs 1 ['pink']\n",
      "lenVs 1 ['red']\n",
      "lenVs 1 ['10']\n"
     ]
    },
    {
     "data": {
      "text/plain": [
       "{'id a': {'label': 'a', 'linkto': 'b'},\n",
       " 'id b': {'label': 'b'},\n",
       " 'nodes': {'color': 'red', 'borderWidth': 10}}"
      ]
     },
     "execution_count": 11,
     "metadata": {},
     "output_type": "execute_result"
    }
   ],
   "source": [
    "def xxparseOptions(graphString=graphString):\n",
    "    \"\"\"Create nested dictionaries as required by visJS.  \n",
    "    At end, optionProcessing is complete, but nodes and edges need more massaging.\n",
    "    \"\"\"\n",
    "    def fixV(s):\n",
    "        \"\"\"deal with non-string values\"\"\"\n",
    "        if s in ['True', 'true']: return True\n",
    "        if s in ['False', 'false']: return False\n",
    "        try: # to convert to a number\n",
    "            return(int(s))\n",
    "        except:\n",
    "            return s #then just return as is\n",
    "    \n",
    "\n",
    "    records = getRecords(graphString)\n",
    "    newOpts = records\n",
    "    options={}\n",
    "    for newOpt in newOpts:\n",
    "        kind = newOpt[0]\n",
    "        options[kind]= {}\n",
    "        for opt in newOpt[1:]:\n",
    "            if len(opt.split())>1:\n",
    "                k,vs = opt.split()[0], opt.split()[1:]\n",
    "                ###################\n",
    "                if k=='linkto':  #don't turn into dictionaries\n",
    "                    options[kind][k]=' '.join(vs) #leave linktos as space delimited 'ONE TWO THREE'\n",
    "                    break\n",
    "\n",
    "                print('lenVs',len(vs), vs)\n",
    "\n",
    "                if len(vs)==1:\n",
    "                    v=vs[0]\n",
    "                    options[kind][k] = fixV(v)\n",
    "\n",
    "                if len(vs)==2:\n",
    "                    k2, v = vs\n",
    "                    if k not in options[kind]: #make sure we have the dict created\n",
    "                        try:\n",
    "                            options[kind][k]=dict()\n",
    "                        except:\n",
    "                            print('error')\n",
    "\n",
    "                \n",
    "                    options[kind][k][k2] = fixV(v)\n",
    "\n",
    "                if len(vs)==3: #will fail beyond this\n",
    "                    k2, k3, v = vs\n",
    "                    if k not in options[kind]:\n",
    "                        options[kind][k]=dict()\n",
    "\n",
    "                    if k2 not in options[kind][k]:\n",
    "                        try:\n",
    "                            options[kind][k][k2] = dict()\n",
    "                        except TypeError:\n",
    "                            print('ERROR')\n",
    "\n",
    "                    options[kind][k][k2][k3] = fixV(v)\n",
    "    return options\n",
    "xxparseOptions()"
   ]
  },
  {
   "cell_type": "code",
   "execution_count": 88,
   "metadata": {},
   "outputs": [
    {
     "data": {
      "text/plain": [
       "[{'kind': 'id a', 'words': ['label'], 'value': 'a'},\n",
       " {'kind': 'id a', 'words': ['linkto'], 'value': 'b'},\n",
       " {'kind': 'id b', 'words': [], 'value': 'linkto'},\n",
       " {'kind': 'id b', 'words': ['label'], 'value': 'b'},\n",
       " {'kind': 'nodes', 'words': ['color'], 'value': 'pink'},\n",
       " {'kind': 'nodes', 'words': ['color'], 'value': 'red'},\n",
       " {'kind': 'nodes', 'words': ['color', 'border'], 'value': 'red'},\n",
       " {'kind': 'nodes', 'words': ['borderWidth'], 'value': '10'}]"
      ]
     },
     "execution_count": 88,
     "metadata": {},
     "output_type": "execute_result"
    }
   ],
   "source": [
    "def parseOptions(graphString=graphString):\n",
    "    records = getRecords(graphString)\n",
    "    #print(records)\n",
    "    entries=[]\n",
    "    for record in records:\n",
    "        kind = record.pop(0)\n",
    "        for line in record:\n",
    "            words = line.split()\n",
    "            value = words.pop()\n",
    "            entries.append(dict(kind=kind, words=words, value=value))\n",
    "    return entries\n",
    "    \n",
    "parseOptions()"
   ]
  },
  {
   "cell_type": "code",
   "execution_count": 85,
   "metadata": {},
   "outputs": [
    {
     "data": {
      "text/plain": [
       "[{'id': 'a'}, {'id': 'a'}, {'id': 'b'}, {'id': 'b'}, {}, {}, {}, {}]"
      ]
     },
     "execution_count": 85,
     "metadata": {},
     "output_type": "execute_result"
    }
   ],
   "source": [
    "POs = parseOptions()\n",
    "nodes=[]\n",
    "edges=[]\n",
    "option=[]\n",
    "for PO in POs:\n",
    "    if PO['kind'].startswith('id'):\n",
    "        node=dict(id = PO['kind'].split('id ')[1])\n",
    "    else:\n",
    "        node=dict()\n",
    "    nodes.append(node)\n",
    "        \n",
    "nodes\n",
    "    "
   ]
  },
  {
   "cell_type": "code",
   "execution_count": 145,
   "metadata": {},
   "outputs": [
    {
     "ename": "AttributeError",
     "evalue": "'list' object has no attribute 'items'",
     "output_type": "error",
     "traceback": [
      "\u001b[0;31m---------------------------------------------------------------------------\u001b[0m",
      "\u001b[0;31mAttributeError\u001b[0m                            Traceback (most recent call last)",
      "\u001b[0;32m<ipython-input-145-76cac6a7eb57>\u001b[0m in \u001b[0;36m<module>\u001b[0;34m\u001b[0m\n\u001b[1;32m     22\u001b[0m     \u001b[0;32mreturn\u001b[0m \u001b[0mentries\u001b[0m\u001b[0;34m\u001b[0m\u001b[0;34m\u001b[0m\u001b[0m\n\u001b[1;32m     23\u001b[0m \u001b[0;34m\u001b[0m\u001b[0m\n\u001b[0;32m---> 24\u001b[0;31m \u001b[0mnodesEdgesOptions\u001b[0m\u001b[0;34m(\u001b[0m\u001b[0;34m)\u001b[0m\u001b[0;34m[\u001b[0m\u001b[0;34m'options'\u001b[0m\u001b[0;34m]\u001b[0m\u001b[0;34m\u001b[0m\u001b[0;34m\u001b[0m\u001b[0m\n\u001b[0m",
      "\u001b[0;32m<ipython-input-145-76cac6a7eb57>\u001b[0m in \u001b[0;36mnodesEdgesOptions\u001b[0;34m(graphString)\u001b[0m\n\u001b[1;32m      5\u001b[0m     \u001b[0mPO\u001b[0m \u001b[0;34m=\u001b[0m \u001b[0mparseOptions\u001b[0m\u001b[0;34m(\u001b[0m\u001b[0mgraphString\u001b[0m\u001b[0;34m)\u001b[0m\u001b[0;34m\u001b[0m\u001b[0;34m\u001b[0m\u001b[0m\n\u001b[1;32m      6\u001b[0m     \u001b[0mentries\u001b[0m\u001b[0;34m=\u001b[0m \u001b[0mdict\u001b[0m\u001b[0;34m(\u001b[0m\u001b[0mnodes\u001b[0m\u001b[0;34m=\u001b[0m\u001b[0;34m[\u001b[0m\u001b[0;34m]\u001b[0m\u001b[0;34m,\u001b[0m \u001b[0medges\u001b[0m\u001b[0;34m=\u001b[0m\u001b[0;34m[\u001b[0m\u001b[0;34m]\u001b[0m\u001b[0;34m,\u001b[0m \u001b[0moptions\u001b[0m\u001b[0;34m=\u001b[0m\u001b[0;34m{\u001b[0m\u001b[0;34m}\u001b[0m\u001b[0;34m)\u001b[0m\u001b[0;34m\u001b[0m\u001b[0;34m\u001b[0m\u001b[0m\n\u001b[0;32m----> 7\u001b[0;31m     \u001b[0;32mfor\u001b[0m \u001b[0mk\u001b[0m\u001b[0;34m,\u001b[0m\u001b[0mv\u001b[0m \u001b[0;32min\u001b[0m \u001b[0mPO\u001b[0m\u001b[0;34m.\u001b[0m\u001b[0mitems\u001b[0m\u001b[0;34m(\u001b[0m\u001b[0;34m)\u001b[0m\u001b[0;34m:\u001b[0m\u001b[0;34m\u001b[0m\u001b[0;34m\u001b[0m\u001b[0m\n\u001b[0m\u001b[1;32m      8\u001b[0m         \u001b[0;32mif\u001b[0m \u001b[0mk\u001b[0m\u001b[0;34m.\u001b[0m\u001b[0mstartswith\u001b[0m\u001b[0;34m(\u001b[0m\u001b[0;34m'id'\u001b[0m\u001b[0;34m)\u001b[0m\u001b[0;34m:\u001b[0m \u001b[0;31m#create a node entry\u001b[0m\u001b[0;34m\u001b[0m\u001b[0;34m\u001b[0m\u001b[0m\n\u001b[1;32m      9\u001b[0m             \u001b[0mid\u001b[0m \u001b[0;34m=\u001b[0m \u001b[0mk\u001b[0m\u001b[0;34m.\u001b[0m\u001b[0msplit\u001b[0m\u001b[0;34m(\u001b[0m\u001b[0;34m'id'\u001b[0m\u001b[0;34m)\u001b[0m\u001b[0;34m[\u001b[0m\u001b[0;36m1\u001b[0m\u001b[0;34m]\u001b[0m\u001b[0;34m.\u001b[0m\u001b[0mstrip\u001b[0m\u001b[0;34m(\u001b[0m\u001b[0;34m)\u001b[0m\u001b[0;34m\u001b[0m\u001b[0;34m\u001b[0m\u001b[0m\n",
      "\u001b[0;31mAttributeError\u001b[0m: 'list' object has no attribute 'items'"
     ]
    }
   ],
   "source": [
    "def nodesEdgesOptions(graphString=graphString):\n",
    "    \"\"\"create a dictionary that has nodes, edges and options formatted as required by visjs\n",
    "    \"\"\"\n",
    "    entries=[]\n",
    "    PO = parseOptions(graphString)\n",
    "    entries= dict(nodes=[], edges=[], options={})\n",
    "    for k,v in PO.items():\n",
    "        if k.startswith('id'): #create a node entry\n",
    "            id = k.split('id')[1].strip()\n",
    "            node = {'id': id}\n",
    "            for k2,v2 in v.items():\n",
    "                node[k2]=v2\n",
    "            entries['nodes'].append(node)\n",
    "        else:\n",
    "            entries['options'][k]=v  #create an option entry (we're expecting nodes, layout, physics, edges...maybe interaction )\n",
    "\n",
    "    for node in entries['nodes']: #create edges entries\n",
    "        if 'linkto' in node.keys():\n",
    "            for linkto in node['linkto'].split(' '):\n",
    "                entries['edges'].append( {'from':node['id'], 'to':linkto} )\n",
    "\n",
    "    return entries\n",
    "\n",
    "nodesEdgesOptions()['options']"
   ]
  },
  {
   "cell_type": "code",
   "execution_count": null,
   "metadata": {},
   "outputs": [],
   "source": []
  },
  {
   "cell_type": "code",
   "execution_count": 146,
   "metadata": {},
   "outputs": [],
   "source": [
    "import subprocess\n",
    "if subprocess.run.__doc__:\n",
    "    cmd = 'jupyter nbconvert --to python parseLeft.ipynb'\n",
    "    subprocess.run(cmd.split(' '))\n"
   ]
  },
  {
   "cell_type": "code",
   "execution_count": null,
   "metadata": {},
   "outputs": [],
   "source": []
  },
  {
   "cell_type": "code",
   "execution_count": null,
   "metadata": {},
   "outputs": [],
   "source": []
  },
  {
   "cell_type": "code",
   "execution_count": null,
   "metadata": {},
   "outputs": [],
   "source": []
  }
 ],
 "metadata": {
  "kernelspec": {
   "display_name": "Python 3",
   "language": "python",
   "name": "python3"
  },
  "language_info": {
   "codemirror_mode": {
    "name": "ipython",
    "version": 3
   },
   "file_extension": ".py",
   "mimetype": "text/x-python",
   "name": "python",
   "nbconvert_exporter": "python",
   "pygments_lexer": "ipython3",
   "version": "3.7.4"
  }
 },
 "nbformat": 4,
 "nbformat_minor": 4
}
