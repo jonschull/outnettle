{
 "cells": [
  {
   "cell_type": "code",
   "execution_count": 14,
   "metadata": {},
   "outputs": [],
   "source": [
    "shortStrings = \"\"\"test multi\n",
    "\tone \n",
    "\ttwo\n",
    "\"\"\""
   ]
  },
  {
   "cell_type": "code",
   "execution_count": 15,
   "metadata": {},
   "outputs": [],
   "source": [
    "def newNode(line):\n",
    "    return dict( id=None,\n",
    "                    depth = len(line) - len(line.lstrip()),\n",
    "                    linkto='',\n",
    "                    parent=None,\n",
    "                    parentid=None,\n",
    "                    label=None,\n",
    "                    raw=line)\n"
   ]
  },
  {
   "cell_type": "code",
   "execution_count": 16,
   "metadata": {},
   "outputs": [],
   "source": [
    "IDs = set([str(i) for i in range(1000)][1:])\n",
    "\n",
    "def assignID(preNode,line,lineID, addenda, assignedIDs):\n",
    "        if addenda: #CURRENTLY MUST BE MANUALLY INSERTED /ID ZERO\n",
    "            IDfromAddenda = addenda.split('ID ')\n",
    "            if len(IDfromAddenda)>1:\n",
    "                lineID = IDfromAddenda[1].split(' ')[0]\n",
    "        else:\n",
    "            if lineID==-1 or (lineID in assignedIDs):\n",
    "                lineID = list(IDs - assignedIDs)[0]\n",
    "        # use lineID\n",
    "        preNode['id']= str(lineID)\n",
    "        assignedIDs.add(lineID)\n",
    "        return preNode, assignedIDs\n"
   ]
  },
  {
   "cell_type": "code",
   "execution_count": null,
   "metadata": {},
   "outputs": [],
   "source": [
    "IDs = set()\n",
    "def assignID(preNode,line,lineID, addenda, assignedIDs):\n",
    "    preNode['id'] = "
   ]
  },
  {
   "cell_type": "code",
   "execution_count": 17,
   "metadata": {},
   "outputs": [
    {
     "data": {
      "text/plain": [
       "[{'id': '947',\n",
       "  'depth': 0,\n",
       "  'linkto': ' one two',\n",
       "  'parent': None,\n",
       "  'parentid': None,\n",
       "  'label': 'test multi',\n",
       "  'raw': 'test multi'},\n",
       " {'id': 'one',\n",
       "  'depth': 1,\n",
       "  'linkto': '',\n",
       "  'parent': {'id': '947',\n",
       "   'depth': 0,\n",
       "   'linkto': ' one two',\n",
       "   'parent': None,\n",
       "   'parentid': None,\n",
       "   'label': 'test multi',\n",
       "   'raw': 'test multi'},\n",
       "  'parentid': None,\n",
       "  'label': 'one',\n",
       "  'raw': '\\tone ',\n",
       "  'parentID': '947'},\n",
       " {'id': 'two',\n",
       "  'depth': 1,\n",
       "  'linkto': '',\n",
       "  'parent': {'id': '947',\n",
       "   'depth': 0,\n",
       "   'linkto': ' one two',\n",
       "   'parent': None,\n",
       "   'parentid': None,\n",
       "   'label': 'test multi',\n",
       "   'raw': 'test multi'},\n",
       "  'parentid': None,\n",
       "  'label': 'two',\n",
       "  'raw': '\\ttwo',\n",
       "  'parentID': '947'}]"
      ]
     },
     "execution_count": 17,
     "metadata": {},
     "output_type": "execute_result"
    }
   ],
   "source": [
    "\n",
    "def makePreNodes(shortStrings=shortStrings):\n",
    "    assignedIDs = set()\n",
    "\n",
    "    #########\n",
    "    #shortStrings = editor.getValue()\n",
    "    #########x\n",
    "    lines=shortStrings.split('\\n')\n",
    "    #print('lines', lines)\n",
    "\n",
    "    preNodes = [newNode(line) for line in lines if line.strip()]\n",
    "    # compute parents\n",
    "    for i in range(len(preNodes)):\n",
    "        my = preNodes[i]\n",
    "        if i>0: #first guy has no parent\n",
    "            for j in range(i+1):\n",
    "                if preNodes[i-j]['depth'] < my['depth']: #found parent\n",
    "                    preNodes[i]['parent'] = preNodes[i-j]  #parents\n",
    "                    break # We now know our parent\n",
    "\n",
    "    for i,preNode in enumerate(preNodes):\n",
    "        line=preNode['raw']\n",
    "\n",
    "        #### extract components for future use.\n",
    "        if '/' in line: #split off addenda\n",
    "            line, addenda = line[:line.find('/')], line[line.find('/')+1 :]\n",
    "            addenda=addenda.strip()\n",
    "        else:\n",
    "            addenda = ''\n",
    "\n",
    "        if ':' in line: #split off linktos\n",
    "            line, linkto = line[:line.find(':')], line[line.find(':')+1 :]\n",
    "            #linkto=linkto.split()\n",
    "        else:\n",
    "            linkto=''\n",
    "\n",
    "        words = line.strip().split(' ')\n",
    "        if len(words) == 1: #one word Labels become IDs\n",
    "            lineID = words[0].strip()\n",
    "        else:\n",
    "            lineID = -1\n",
    "            #preNode['ADDENDA']= '/ID ' + lineID\n",
    "\n",
    "        #### use line and components carefully\n",
    "        preNode['label']=line.strip()\n",
    "\n",
    "        if preNode['parent']:  #since parent precedes child, parent ID is available for use\n",
    "            preNode['parentID'] = preNode['parent']['id']\n",
    "\n",
    "        ####assign ID and update assignedIDs\n",
    "        preNode, assignedIDs = assignID(preNode,line,lineID, addenda, assignedIDs)\n",
    "\n",
    "        #Linktos #aggregate linktos for when we get out of the loop\n",
    "        if preNode['parent']:\n",
    "            preNode['parent']['linkto'] += ' ' + preNode['id'] #works\n",
    "        if linkto:\n",
    "            preNode['linkto'] += ' ' + linkto\n",
    "        #preNode['addenda'] = niceRep(preNode, goodKeys='id label linkto title borderWidth'.split(' '))\n",
    "\n",
    "    linktos=set() #collect all the linktos for all the nodes\n",
    "    for preNode in preNodes:\n",
    "        for target in preNode['linkto'].split(' '):\n",
    "            linktos.add(target)\n",
    "\n",
    "    #collect all explicit IDs for all the  nodes\n",
    "    namedNodes=set([node['id']for node in preNodes])\n",
    "\n",
    "    #create nodes that were mentioned in linktos but not explicitly named\n",
    "    for ID in linktos-namedNodes: #the linktos that need to be named\n",
    "        if ID:\n",
    "            newPreNode = newNode(ID)\n",
    "            newPreNode['id']=ID\n",
    "            newPreNode['label']= ID\n",
    "            preNodes.append(newPreNode)\n",
    "                         \n",
    "    return preNodes\n",
    "\n",
    "makePreNodes()\n"
   ]
  },
  {
   "cell_type": "code",
   "execution_count": 5,
   "metadata": {},
   "outputs": [],
   "source": [
    "def niceRep(preNode, goodKeys = 'id label linkto parent addenda'.split(' ')):\n",
    "    ret=[]\n",
    "    for k,v in preNode.items():\n",
    "        if k in goodKeys: #this is needed for filtering preNodes\n",
    "            if type(v)==type({}):\n",
    "                for k2,v in v.items():\n",
    "                    ret.append(f'{k} {k2} {v}')\n",
    "            else:\n",
    "                ret.append(f'{k} {v}')\n",
    "    return '/' + '  /'.join(ret)"
   ]
  },
  {
   "cell_type": "code",
   "execution_count": 6,
   "metadata": {},
   "outputs": [
    {
     "data": {
      "text/plain": [
       "\"\\nid a\\n\\tlabel a\\n\\tlinkto  b\\n\\tcolor\\n\\t('border', 'red') ('background', 'lime')\\nid b\\n\\tlabel b\""
      ]
     },
     "execution_count": 6,
     "metadata": {},
     "output_type": "execute_result"
    }
   ],
   "source": [
    "\"\"\"\n",
    "id a\n",
    "\tlabel a\n",
    "\tlinkto  b\n",
    "\tcolor\n",
    "\t('border', 'red') ('background', 'lime')\n",
    "id b\n",
    "\tlabel b\"\"\""
   ]
  },
  {
   "cell_type": "code",
   "execution_count": 7,
   "metadata": {},
   "outputs": [],
   "source": [
    "def niceReps(mergedNodes):\n",
    "    newLines=[]\n",
    "    for mergedNode in mergedNodes:\n",
    "        newLine = niceRep(mergedNode, goodKeys='id label linkto title color borderWidth shape font background x y'.split(' '))\n",
    "        newLine= newLine.replace('/','\\n')\n",
    "        newLines.append(newLine)\n",
    "    return newLines\n"
   ]
  },
  {
   "cell_type": "code",
   "execution_count": 8,
   "metadata": {},
   "outputs": [],
   "source": [
    "def splice(preNodes, priorNodes=[]):\n",
    "    \"\"\"interweave nodes and preNodes before sending to fillLeft\"\"\"\n",
    "    newNodes=preNodes\n",
    "    mergedNodes=[]\n",
    "\n",
    "    oldNodes = {} #a dict of diagrammed nodes, indexed by ID, but now with upper case keys\n",
    "    for _ in  priorNodes:\n",
    "        oldNodes[_['id']]= _\n",
    "\n",
    "    if oldNodes:\n",
    "        for newNode in newNodes:\n",
    "            if newNode['id'] in oldNodes: #merge new shorthand values into oldNode\n",
    "                mergedNode = oldNodes[newNode['id']] | newNode  #MERGE\n",
    "                mergedNodes.append(mergedNode)\n",
    "            else:\n",
    "                mergedNodes.append(newNode)\n",
    "    if not oldNodes:\n",
    "        mergedNodes = oldNodes\n",
    "\n",
    "    newLines = niceReps(mergedNodes)\n",
    "    return newLines\n"
   ]
  },
  {
   "cell_type": "code",
   "execution_count": null,
   "metadata": {},
   "outputs": [],
   "source": []
  },
  {
   "cell_type": "code",
   "execution_count": 9,
   "metadata": {},
   "outputs": [],
   "source": [
    "import subprocess\n",
    "if subprocess.run.__doc__:\n",
    "    cmd = 'jupyter nbconvert --to python parseShorts.ipynb'\n",
    "    subprocess.run(cmd.split(' '))\n"
   ]
  },
  {
   "cell_type": "code",
   "execution_count": null,
   "metadata": {},
   "outputs": [],
   "source": []
  }
 ],
 "metadata": {
  "kernelspec": {
   "display_name": "Python 3",
   "language": "python",
   "name": "python3"
  },
  "language_info": {
   "codemirror_mode": {
    "name": "ipython",
    "version": 3
   },
   "file_extension": ".py",
   "mimetype": "text/x-python",
   "name": "python",
   "nbconvert_exporter": "python",
   "pygments_lexer": "ipython3",
   "version": "3.7.4"
  }
 },
 "nbformat": 4,
 "nbformat_minor": 4
}
